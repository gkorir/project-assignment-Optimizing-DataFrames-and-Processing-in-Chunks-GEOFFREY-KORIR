{
  "nbformat": 4,
  "nbformat_minor": 0,
  "metadata": {
    "colab": {
      "provenance": [],
      "collapsed_sections": [
        "y7eHGTSKv8TW",
        "ZJ7UJlKnwJk3",
        "StemrBe2wkMj",
        "8BtAVP8fw3OH",
        "22oYzgXnxIcV",
        "DMJVaj_kxj42"
      ]
    },
    "kernelspec": {
      "name": "python3",
      "display_name": "Python 3"
    },
    "language_info": {
      "name": "python"
    }
  },
  "cells": [
    {
      "cell_type": "markdown",
      "metadata": {
        "id": "y7eHGTSKv8TW"
      },
      "source": [
        "# Project Notebook: Optimizing DataFrames and Processing in Chunks"
      ]
    },
    {
      "cell_type": "markdown",
      "metadata": {
        "id": "ZJ7UJlKnwJk3"
      },
      "source": [
        "## 1. Introduction "
      ]
    },
    {
      "cell_type": "markdown",
      "metadata": {
        "id": "UUyK3GcBv9mC"
      },
      "source": [
        "In this project, we'll practice working with chunked dataframes and optimizing a dataframe's memory usage. We'll be working with financial lending data from Lending Club, a marketplace for personal loans that matches borrowers with investors. You can read more about the marketplace on its website.\n",
        "\n",
        "The Lending Club's website lists approved loans. Qualified investors can view the borrower's credit score, the purpose of the loan, and other details in the loan applications. Once a lender is ready to back a loan, it selects the amount of money it wants to fund. When the loan amount the borrower requested is fully funded, the borrower receives the money, minus the origination fee that Lending Club charges.\n",
        "\n",
        "We'll be working with a dataset of loans approved from 2007-2011 (https://bit.ly/3H2XVgC). We've already removed the desc column for you to make our system run more quickly.\n",
        "\n",
        "If we read in the entire data set, it will consume about 67 megabytes of memory. Let's imagine that we only have 10 megabytes of memory available throughout this project, so you can practice the concepts you learned in the last two lessons.\n",
        "\n",
        "**Tasks**\n",
        "\n",
        "1. Read in the first five lines from `loans_2007.csv` (https://bit.ly/3H2XVgC) and look for any data quality issues.\n",
        "\n",
        "2. Read in the first 1000 rows from the data set, and calculate the total memory usage for these rows. Increase or decrease the number of rows to converge on a memory usage under five megabytes (to stay on the conservative side)."
      ]
    },
    {
      "cell_type": "code",
      "metadata": {
        "id": "Kc9NLSZ5vXPM",
        "colab": {
          "base_uri": "https://localhost:8080/",
          "height": 444
        },
        "outputId": "dc15c7d4-2c04-4af2-a155-b3bc8cef3191"
      },
      "source": [
        "# Importing pandas\n",
        "import pandas as pd\n",
        "import numpy as np\n",
        "\n",
        "pd.options.display.max_columns = 99\n",
        "\n",
        "# Your code goes here\n",
        "personal_loan_df = pd.read_csv('https://bit.ly/3H2XVgC')\n",
        "personal_loan_df.head()"
      ],
      "execution_count": null,
      "outputs": [
        {
          "output_type": "stream",
          "name": "stderr",
          "text": [
            "/usr/local/lib/python3.8/dist-packages/IPython/core/interactiveshell.py:3326: DtypeWarning: Columns (0) have mixed types.Specify dtype option on import or set low_memory=False.\n",
            "  exec(code_obj, self.user_global_ns, self.user_ns)\n"
          ]
        },
        {
          "output_type": "execute_result",
          "data": {
            "text/plain": [
              "        id  member_id  loan_amnt  funded_amnt  funded_amnt_inv        term  \\\n",
              "0  1077501  1296599.0     5000.0       5000.0           4975.0   36 months   \n",
              "1  1077430  1314167.0     2500.0       2500.0           2500.0   60 months   \n",
              "2  1077175  1313524.0     2400.0       2400.0           2400.0   36 months   \n",
              "3  1076863  1277178.0    10000.0      10000.0          10000.0   36 months   \n",
              "4  1075358  1311748.0     3000.0       3000.0           3000.0   60 months   \n",
              "\n",
              "  int_rate  installment grade sub_grade                 emp_title emp_length  \\\n",
              "0   10.65%       162.87     B        B2                       NaN  10+ years   \n",
              "1   15.27%        59.83     C        C4                     Ryder   < 1 year   \n",
              "2   15.96%        84.33     C        C5                       NaN  10+ years   \n",
              "3   13.49%       339.31     C        C1       AIR RESOURCES BOARD  10+ years   \n",
              "4   12.69%        67.79     B        B5  University Medical Group     1 year   \n",
              "\n",
              "  home_ownership  annual_inc verification_status   issue_d  loan_status  \\\n",
              "0           RENT     24000.0            Verified  Dec-2011   Fully Paid   \n",
              "1           RENT     30000.0     Source Verified  Dec-2011  Charged Off   \n",
              "2           RENT     12252.0        Not Verified  Dec-2011   Fully Paid   \n",
              "3           RENT     49200.0     Source Verified  Dec-2011   Fully Paid   \n",
              "4           RENT     80000.0     Source Verified  Dec-2011      Current   \n",
              "\n",
              "  pymnt_plan         purpose                 title zip_code addr_state    dti  \\\n",
              "0          n     credit_card              Computer    860xx         AZ  27.65   \n",
              "1          n             car                  bike    309xx         GA   1.00   \n",
              "2          n  small_business  real estate business    606xx         IL   8.72   \n",
              "3          n           other              personel    917xx         CA  20.00   \n",
              "4          n           other              Personal    972xx         OR  17.94   \n",
              "\n",
              "   delinq_2yrs earliest_cr_line  inq_last_6mths  open_acc  pub_rec  revol_bal  \\\n",
              "0          0.0         Jan-1985             1.0       3.0      0.0    13648.0   \n",
              "1          0.0         Apr-1999             5.0       3.0      0.0     1687.0   \n",
              "2          0.0         Nov-2001             2.0       2.0      0.0     2956.0   \n",
              "3          0.0         Feb-1996             1.0      10.0      0.0     5598.0   \n",
              "4          0.0         Jan-1996             0.0      15.0      0.0    27783.0   \n",
              "\n",
              "  revol_util  total_acc initial_list_status  out_prncp  out_prncp_inv  \\\n",
              "0      83.7%        9.0                   f       0.00           0.00   \n",
              "1       9.4%        4.0                   f       0.00           0.00   \n",
              "2      98.5%       10.0                   f       0.00           0.00   \n",
              "3        21%       37.0                   f       0.00           0.00   \n",
              "4      53.9%       38.0                   f     461.73         461.73   \n",
              "\n",
              "    total_pymnt  total_pymnt_inv  total_rec_prncp  total_rec_int  \\\n",
              "0   5863.155187          5833.84          5000.00         863.16   \n",
              "1   1008.710000          1008.71           456.46         435.17   \n",
              "2   3005.666844          3005.67          2400.00         605.67   \n",
              "3  12231.890000         12231.89         10000.00        2214.92   \n",
              "4   3581.120000          3581.12          2538.27        1042.85   \n",
              "\n",
              "   total_rec_late_fee  recoveries  collection_recovery_fee last_pymnt_d  \\\n",
              "0                0.00        0.00                     0.00     Jan-2015   \n",
              "1                0.00      117.08                     1.11     Apr-2013   \n",
              "2                0.00        0.00                     0.00     Jun-2014   \n",
              "3               16.97        0.00                     0.00     Jan-2015   \n",
              "4                0.00        0.00                     0.00     Jun-2016   \n",
              "\n",
              "   last_pymnt_amnt last_credit_pull_d  collections_12_mths_ex_med  \\\n",
              "0           171.62           Jun-2016                         0.0   \n",
              "1           119.66           Sep-2013                         0.0   \n",
              "2           649.91           Jun-2016                         0.0   \n",
              "3           357.48           Apr-2016                         0.0   \n",
              "4            67.79           Jun-2016                         0.0   \n",
              "\n",
              "   policy_code application_type  acc_now_delinq  chargeoff_within_12_mths  \\\n",
              "0          1.0       INDIVIDUAL             0.0                       0.0   \n",
              "1          1.0       INDIVIDUAL             0.0                       0.0   \n",
              "2          1.0       INDIVIDUAL             0.0                       0.0   \n",
              "3          1.0       INDIVIDUAL             0.0                       0.0   \n",
              "4          1.0       INDIVIDUAL             0.0                       0.0   \n",
              "\n",
              "   delinq_amnt  pub_rec_bankruptcies  tax_liens  \n",
              "0          0.0                   0.0        0.0  \n",
              "1          0.0                   0.0        0.0  \n",
              "2          0.0                   0.0        0.0  \n",
              "3          0.0                   0.0        0.0  \n",
              "4          0.0                   0.0        0.0  "
            ],
            "text/html": [
              "\n",
              "  <div id=\"df-7ce1a031-ef26-4593-850e-56324cd10c29\">\n",
              "    <div class=\"colab-df-container\">\n",
              "      <div>\n",
              "<style scoped>\n",
              "    .dataframe tbody tr th:only-of-type {\n",
              "        vertical-align: middle;\n",
              "    }\n",
              "\n",
              "    .dataframe tbody tr th {\n",
              "        vertical-align: top;\n",
              "    }\n",
              "\n",
              "    .dataframe thead th {\n",
              "        text-align: right;\n",
              "    }\n",
              "</style>\n",
              "<table border=\"1\" class=\"dataframe\">\n",
              "  <thead>\n",
              "    <tr style=\"text-align: right;\">\n",
              "      <th></th>\n",
              "      <th>id</th>\n",
              "      <th>member_id</th>\n",
              "      <th>loan_amnt</th>\n",
              "      <th>funded_amnt</th>\n",
              "      <th>funded_amnt_inv</th>\n",
              "      <th>term</th>\n",
              "      <th>int_rate</th>\n",
              "      <th>installment</th>\n",
              "      <th>grade</th>\n",
              "      <th>sub_grade</th>\n",
              "      <th>emp_title</th>\n",
              "      <th>emp_length</th>\n",
              "      <th>home_ownership</th>\n",
              "      <th>annual_inc</th>\n",
              "      <th>verification_status</th>\n",
              "      <th>issue_d</th>\n",
              "      <th>loan_status</th>\n",
              "      <th>pymnt_plan</th>\n",
              "      <th>purpose</th>\n",
              "      <th>title</th>\n",
              "      <th>zip_code</th>\n",
              "      <th>addr_state</th>\n",
              "      <th>dti</th>\n",
              "      <th>delinq_2yrs</th>\n",
              "      <th>earliest_cr_line</th>\n",
              "      <th>inq_last_6mths</th>\n",
              "      <th>open_acc</th>\n",
              "      <th>pub_rec</th>\n",
              "      <th>revol_bal</th>\n",
              "      <th>revol_util</th>\n",
              "      <th>total_acc</th>\n",
              "      <th>initial_list_status</th>\n",
              "      <th>out_prncp</th>\n",
              "      <th>out_prncp_inv</th>\n",
              "      <th>total_pymnt</th>\n",
              "      <th>total_pymnt_inv</th>\n",
              "      <th>total_rec_prncp</th>\n",
              "      <th>total_rec_int</th>\n",
              "      <th>total_rec_late_fee</th>\n",
              "      <th>recoveries</th>\n",
              "      <th>collection_recovery_fee</th>\n",
              "      <th>last_pymnt_d</th>\n",
              "      <th>last_pymnt_amnt</th>\n",
              "      <th>last_credit_pull_d</th>\n",
              "      <th>collections_12_mths_ex_med</th>\n",
              "      <th>policy_code</th>\n",
              "      <th>application_type</th>\n",
              "      <th>acc_now_delinq</th>\n",
              "      <th>chargeoff_within_12_mths</th>\n",
              "      <th>delinq_amnt</th>\n",
              "      <th>pub_rec_bankruptcies</th>\n",
              "      <th>tax_liens</th>\n",
              "    </tr>\n",
              "  </thead>\n",
              "  <tbody>\n",
              "    <tr>\n",
              "      <th>0</th>\n",
              "      <td>1077501</td>\n",
              "      <td>1296599.0</td>\n",
              "      <td>5000.0</td>\n",
              "      <td>5000.0</td>\n",
              "      <td>4975.0</td>\n",
              "      <td>36 months</td>\n",
              "      <td>10.65%</td>\n",
              "      <td>162.87</td>\n",
              "      <td>B</td>\n",
              "      <td>B2</td>\n",
              "      <td>NaN</td>\n",
              "      <td>10+ years</td>\n",
              "      <td>RENT</td>\n",
              "      <td>24000.0</td>\n",
              "      <td>Verified</td>\n",
              "      <td>Dec-2011</td>\n",
              "      <td>Fully Paid</td>\n",
              "      <td>n</td>\n",
              "      <td>credit_card</td>\n",
              "      <td>Computer</td>\n",
              "      <td>860xx</td>\n",
              "      <td>AZ</td>\n",
              "      <td>27.65</td>\n",
              "      <td>0.0</td>\n",
              "      <td>Jan-1985</td>\n",
              "      <td>1.0</td>\n",
              "      <td>3.0</td>\n",
              "      <td>0.0</td>\n",
              "      <td>13648.0</td>\n",
              "      <td>83.7%</td>\n",
              "      <td>9.0</td>\n",
              "      <td>f</td>\n",
              "      <td>0.00</td>\n",
              "      <td>0.00</td>\n",
              "      <td>5863.155187</td>\n",
              "      <td>5833.84</td>\n",
              "      <td>5000.00</td>\n",
              "      <td>863.16</td>\n",
              "      <td>0.00</td>\n",
              "      <td>0.00</td>\n",
              "      <td>0.00</td>\n",
              "      <td>Jan-2015</td>\n",
              "      <td>171.62</td>\n",
              "      <td>Jun-2016</td>\n",
              "      <td>0.0</td>\n",
              "      <td>1.0</td>\n",
              "      <td>INDIVIDUAL</td>\n",
              "      <td>0.0</td>\n",
              "      <td>0.0</td>\n",
              "      <td>0.0</td>\n",
              "      <td>0.0</td>\n",
              "      <td>0.0</td>\n",
              "    </tr>\n",
              "    <tr>\n",
              "      <th>1</th>\n",
              "      <td>1077430</td>\n",
              "      <td>1314167.0</td>\n",
              "      <td>2500.0</td>\n",
              "      <td>2500.0</td>\n",
              "      <td>2500.0</td>\n",
              "      <td>60 months</td>\n",
              "      <td>15.27%</td>\n",
              "      <td>59.83</td>\n",
              "      <td>C</td>\n",
              "      <td>C4</td>\n",
              "      <td>Ryder</td>\n",
              "      <td>&lt; 1 year</td>\n",
              "      <td>RENT</td>\n",
              "      <td>30000.0</td>\n",
              "      <td>Source Verified</td>\n",
              "      <td>Dec-2011</td>\n",
              "      <td>Charged Off</td>\n",
              "      <td>n</td>\n",
              "      <td>car</td>\n",
              "      <td>bike</td>\n",
              "      <td>309xx</td>\n",
              "      <td>GA</td>\n",
              "      <td>1.00</td>\n",
              "      <td>0.0</td>\n",
              "      <td>Apr-1999</td>\n",
              "      <td>5.0</td>\n",
              "      <td>3.0</td>\n",
              "      <td>0.0</td>\n",
              "      <td>1687.0</td>\n",
              "      <td>9.4%</td>\n",
              "      <td>4.0</td>\n",
              "      <td>f</td>\n",
              "      <td>0.00</td>\n",
              "      <td>0.00</td>\n",
              "      <td>1008.710000</td>\n",
              "      <td>1008.71</td>\n",
              "      <td>456.46</td>\n",
              "      <td>435.17</td>\n",
              "      <td>0.00</td>\n",
              "      <td>117.08</td>\n",
              "      <td>1.11</td>\n",
              "      <td>Apr-2013</td>\n",
              "      <td>119.66</td>\n",
              "      <td>Sep-2013</td>\n",
              "      <td>0.0</td>\n",
              "      <td>1.0</td>\n",
              "      <td>INDIVIDUAL</td>\n",
              "      <td>0.0</td>\n",
              "      <td>0.0</td>\n",
              "      <td>0.0</td>\n",
              "      <td>0.0</td>\n",
              "      <td>0.0</td>\n",
              "    </tr>\n",
              "    <tr>\n",
              "      <th>2</th>\n",
              "      <td>1077175</td>\n",
              "      <td>1313524.0</td>\n",
              "      <td>2400.0</td>\n",
              "      <td>2400.0</td>\n",
              "      <td>2400.0</td>\n",
              "      <td>36 months</td>\n",
              "      <td>15.96%</td>\n",
              "      <td>84.33</td>\n",
              "      <td>C</td>\n",
              "      <td>C5</td>\n",
              "      <td>NaN</td>\n",
              "      <td>10+ years</td>\n",
              "      <td>RENT</td>\n",
              "      <td>12252.0</td>\n",
              "      <td>Not Verified</td>\n",
              "      <td>Dec-2011</td>\n",
              "      <td>Fully Paid</td>\n",
              "      <td>n</td>\n",
              "      <td>small_business</td>\n",
              "      <td>real estate business</td>\n",
              "      <td>606xx</td>\n",
              "      <td>IL</td>\n",
              "      <td>8.72</td>\n",
              "      <td>0.0</td>\n",
              "      <td>Nov-2001</td>\n",
              "      <td>2.0</td>\n",
              "      <td>2.0</td>\n",
              "      <td>0.0</td>\n",
              "      <td>2956.0</td>\n",
              "      <td>98.5%</td>\n",
              "      <td>10.0</td>\n",
              "      <td>f</td>\n",
              "      <td>0.00</td>\n",
              "      <td>0.00</td>\n",
              "      <td>3005.666844</td>\n",
              "      <td>3005.67</td>\n",
              "      <td>2400.00</td>\n",
              "      <td>605.67</td>\n",
              "      <td>0.00</td>\n",
              "      <td>0.00</td>\n",
              "      <td>0.00</td>\n",
              "      <td>Jun-2014</td>\n",
              "      <td>649.91</td>\n",
              "      <td>Jun-2016</td>\n",
              "      <td>0.0</td>\n",
              "      <td>1.0</td>\n",
              "      <td>INDIVIDUAL</td>\n",
              "      <td>0.0</td>\n",
              "      <td>0.0</td>\n",
              "      <td>0.0</td>\n",
              "      <td>0.0</td>\n",
              "      <td>0.0</td>\n",
              "    </tr>\n",
              "    <tr>\n",
              "      <th>3</th>\n",
              "      <td>1076863</td>\n",
              "      <td>1277178.0</td>\n",
              "      <td>10000.0</td>\n",
              "      <td>10000.0</td>\n",
              "      <td>10000.0</td>\n",
              "      <td>36 months</td>\n",
              "      <td>13.49%</td>\n",
              "      <td>339.31</td>\n",
              "      <td>C</td>\n",
              "      <td>C1</td>\n",
              "      <td>AIR RESOURCES BOARD</td>\n",
              "      <td>10+ years</td>\n",
              "      <td>RENT</td>\n",
              "      <td>49200.0</td>\n",
              "      <td>Source Verified</td>\n",
              "      <td>Dec-2011</td>\n",
              "      <td>Fully Paid</td>\n",
              "      <td>n</td>\n",
              "      <td>other</td>\n",
              "      <td>personel</td>\n",
              "      <td>917xx</td>\n",
              "      <td>CA</td>\n",
              "      <td>20.00</td>\n",
              "      <td>0.0</td>\n",
              "      <td>Feb-1996</td>\n",
              "      <td>1.0</td>\n",
              "      <td>10.0</td>\n",
              "      <td>0.0</td>\n",
              "      <td>5598.0</td>\n",
              "      <td>21%</td>\n",
              "      <td>37.0</td>\n",
              "      <td>f</td>\n",
              "      <td>0.00</td>\n",
              "      <td>0.00</td>\n",
              "      <td>12231.890000</td>\n",
              "      <td>12231.89</td>\n",
              "      <td>10000.00</td>\n",
              "      <td>2214.92</td>\n",
              "      <td>16.97</td>\n",
              "      <td>0.00</td>\n",
              "      <td>0.00</td>\n",
              "      <td>Jan-2015</td>\n",
              "      <td>357.48</td>\n",
              "      <td>Apr-2016</td>\n",
              "      <td>0.0</td>\n",
              "      <td>1.0</td>\n",
              "      <td>INDIVIDUAL</td>\n",
              "      <td>0.0</td>\n",
              "      <td>0.0</td>\n",
              "      <td>0.0</td>\n",
              "      <td>0.0</td>\n",
              "      <td>0.0</td>\n",
              "    </tr>\n",
              "    <tr>\n",
              "      <th>4</th>\n",
              "      <td>1075358</td>\n",
              "      <td>1311748.0</td>\n",
              "      <td>3000.0</td>\n",
              "      <td>3000.0</td>\n",
              "      <td>3000.0</td>\n",
              "      <td>60 months</td>\n",
              "      <td>12.69%</td>\n",
              "      <td>67.79</td>\n",
              "      <td>B</td>\n",
              "      <td>B5</td>\n",
              "      <td>University Medical Group</td>\n",
              "      <td>1 year</td>\n",
              "      <td>RENT</td>\n",
              "      <td>80000.0</td>\n",
              "      <td>Source Verified</td>\n",
              "      <td>Dec-2011</td>\n",
              "      <td>Current</td>\n",
              "      <td>n</td>\n",
              "      <td>other</td>\n",
              "      <td>Personal</td>\n",
              "      <td>972xx</td>\n",
              "      <td>OR</td>\n",
              "      <td>17.94</td>\n",
              "      <td>0.0</td>\n",
              "      <td>Jan-1996</td>\n",
              "      <td>0.0</td>\n",
              "      <td>15.0</td>\n",
              "      <td>0.0</td>\n",
              "      <td>27783.0</td>\n",
              "      <td>53.9%</td>\n",
              "      <td>38.0</td>\n",
              "      <td>f</td>\n",
              "      <td>461.73</td>\n",
              "      <td>461.73</td>\n",
              "      <td>3581.120000</td>\n",
              "      <td>3581.12</td>\n",
              "      <td>2538.27</td>\n",
              "      <td>1042.85</td>\n",
              "      <td>0.00</td>\n",
              "      <td>0.00</td>\n",
              "      <td>0.00</td>\n",
              "      <td>Jun-2016</td>\n",
              "      <td>67.79</td>\n",
              "      <td>Jun-2016</td>\n",
              "      <td>0.0</td>\n",
              "      <td>1.0</td>\n",
              "      <td>INDIVIDUAL</td>\n",
              "      <td>0.0</td>\n",
              "      <td>0.0</td>\n",
              "      <td>0.0</td>\n",
              "      <td>0.0</td>\n",
              "      <td>0.0</td>\n",
              "    </tr>\n",
              "  </tbody>\n",
              "</table>\n",
              "</div>\n",
              "      <button class=\"colab-df-convert\" onclick=\"convertToInteractive('df-7ce1a031-ef26-4593-850e-56324cd10c29')\"\n",
              "              title=\"Convert this dataframe to an interactive table.\"\n",
              "              style=\"display:none;\">\n",
              "        \n",
              "  <svg xmlns=\"http://www.w3.org/2000/svg\" height=\"24px\"viewBox=\"0 0 24 24\"\n",
              "       width=\"24px\">\n",
              "    <path d=\"M0 0h24v24H0V0z\" fill=\"none\"/>\n",
              "    <path d=\"M18.56 5.44l.94 2.06.94-2.06 2.06-.94-2.06-.94-.94-2.06-.94 2.06-2.06.94zm-11 1L8.5 8.5l.94-2.06 2.06-.94-2.06-.94L8.5 2.5l-.94 2.06-2.06.94zm10 10l.94 2.06.94-2.06 2.06-.94-2.06-.94-.94-2.06-.94 2.06-2.06.94z\"/><path d=\"M17.41 7.96l-1.37-1.37c-.4-.4-.92-.59-1.43-.59-.52 0-1.04.2-1.43.59L10.3 9.45l-7.72 7.72c-.78.78-.78 2.05 0 2.83L4 21.41c.39.39.9.59 1.41.59.51 0 1.02-.2 1.41-.59l7.78-7.78 2.81-2.81c.8-.78.8-2.07 0-2.86zM5.41 20L4 18.59l7.72-7.72 1.47 1.35L5.41 20z\"/>\n",
              "  </svg>\n",
              "      </button>\n",
              "      \n",
              "  <style>\n",
              "    .colab-df-container {\n",
              "      display:flex;\n",
              "      flex-wrap:wrap;\n",
              "      gap: 12px;\n",
              "    }\n",
              "\n",
              "    .colab-df-convert {\n",
              "      background-color: #E8F0FE;\n",
              "      border: none;\n",
              "      border-radius: 50%;\n",
              "      cursor: pointer;\n",
              "      display: none;\n",
              "      fill: #1967D2;\n",
              "      height: 32px;\n",
              "      padding: 0 0 0 0;\n",
              "      width: 32px;\n",
              "    }\n",
              "\n",
              "    .colab-df-convert:hover {\n",
              "      background-color: #E2EBFA;\n",
              "      box-shadow: 0px 1px 2px rgba(60, 64, 67, 0.3), 0px 1px 3px 1px rgba(60, 64, 67, 0.15);\n",
              "      fill: #174EA6;\n",
              "    }\n",
              "\n",
              "    [theme=dark] .colab-df-convert {\n",
              "      background-color: #3B4455;\n",
              "      fill: #D2E3FC;\n",
              "    }\n",
              "\n",
              "    [theme=dark] .colab-df-convert:hover {\n",
              "      background-color: #434B5C;\n",
              "      box-shadow: 0px 1px 3px 1px rgba(0, 0, 0, 0.15);\n",
              "      filter: drop-shadow(0px 1px 2px rgba(0, 0, 0, 0.3));\n",
              "      fill: #FFFFFF;\n",
              "    }\n",
              "  </style>\n",
              "\n",
              "      <script>\n",
              "        const buttonEl =\n",
              "          document.querySelector('#df-7ce1a031-ef26-4593-850e-56324cd10c29 button.colab-df-convert');\n",
              "        buttonEl.style.display =\n",
              "          google.colab.kernel.accessAllowed ? 'block' : 'none';\n",
              "\n",
              "        async function convertToInteractive(key) {\n",
              "          const element = document.querySelector('#df-7ce1a031-ef26-4593-850e-56324cd10c29');\n",
              "          const dataTable =\n",
              "            await google.colab.kernel.invokeFunction('convertToInteractive',\n",
              "                                                     [key], {});\n",
              "          if (!dataTable) return;\n",
              "\n",
              "          const docLinkHtml = 'Like what you see? Visit the ' +\n",
              "            '<a target=\"_blank\" href=https://colab.research.google.com/notebooks/data_table.ipynb>data table notebook</a>'\n",
              "            + ' to learn more about interactive tables.';\n",
              "          element.innerHTML = '';\n",
              "          dataTable['output_type'] = 'display_data';\n",
              "          await google.colab.output.renderOutput(dataTable, element);\n",
              "          const docLink = document.createElement('div');\n",
              "          docLink.innerHTML = docLinkHtml;\n",
              "          element.appendChild(docLink);\n",
              "        }\n",
              "      </script>\n",
              "    </div>\n",
              "  </div>\n",
              "  "
            ]
          },
          "metadata": {},
          "execution_count": 11
        }
      ]
    },
    {
      "cell_type": "code",
      "source": [
        "personal_loan_df.info()"
      ],
      "metadata": {
        "colab": {
          "base_uri": "https://localhost:8080/"
        },
        "id": "807pVNkN5lft",
        "outputId": "b0f57d1f-70ee-4352-afb3-723b9106e5f3"
      },
      "execution_count": null,
      "outputs": [
        {
          "output_type": "stream",
          "name": "stdout",
          "text": [
            "<class 'pandas.core.frame.DataFrame'>\n",
            "RangeIndex: 42538 entries, 0 to 42537\n",
            "Data columns (total 52 columns):\n",
            " #   Column                      Non-Null Count  Dtype  \n",
            "---  ------                      --------------  -----  \n",
            " 0   id                          42538 non-null  object \n",
            " 1   member_id                   42535 non-null  float64\n",
            " 2   loan_amnt                   42535 non-null  float64\n",
            " 3   funded_amnt                 42535 non-null  float64\n",
            " 4   funded_amnt_inv             42535 non-null  float64\n",
            " 5   term                        42535 non-null  object \n",
            " 6   int_rate                    42535 non-null  object \n",
            " 7   installment                 42535 non-null  float64\n",
            " 8   grade                       42535 non-null  object \n",
            " 9   sub_grade                   42535 non-null  object \n",
            " 10  emp_title                   39909 non-null  object \n",
            " 11  emp_length                  41423 non-null  object \n",
            " 12  home_ownership              42535 non-null  object \n",
            " 13  annual_inc                  42531 non-null  float64\n",
            " 14  verification_status         42535 non-null  object \n",
            " 15  issue_d                     42535 non-null  object \n",
            " 16  loan_status                 42535 non-null  object \n",
            " 17  pymnt_plan                  42535 non-null  object \n",
            " 18  purpose                     42535 non-null  object \n",
            " 19  title                       42522 non-null  object \n",
            " 20  zip_code                    42535 non-null  object \n",
            " 21  addr_state                  42535 non-null  object \n",
            " 22  dti                         42535 non-null  float64\n",
            " 23  delinq_2yrs                 42506 non-null  float64\n",
            " 24  earliest_cr_line            42506 non-null  object \n",
            " 25  inq_last_6mths              42506 non-null  float64\n",
            " 26  open_acc                    42506 non-null  float64\n",
            " 27  pub_rec                     42506 non-null  float64\n",
            " 28  revol_bal                   42535 non-null  float64\n",
            " 29  revol_util                  42445 non-null  object \n",
            " 30  total_acc                   42506 non-null  float64\n",
            " 31  initial_list_status         42535 non-null  object \n",
            " 32  out_prncp                   42535 non-null  float64\n",
            " 33  out_prncp_inv               42535 non-null  float64\n",
            " 34  total_pymnt                 42535 non-null  float64\n",
            " 35  total_pymnt_inv             42535 non-null  float64\n",
            " 36  total_rec_prncp             42535 non-null  float64\n",
            " 37  total_rec_int               42535 non-null  float64\n",
            " 38  total_rec_late_fee          42535 non-null  float64\n",
            " 39  recoveries                  42535 non-null  float64\n",
            " 40  collection_recovery_fee     42535 non-null  float64\n",
            " 41  last_pymnt_d                42452 non-null  object \n",
            " 42  last_pymnt_amnt             42535 non-null  float64\n",
            " 43  last_credit_pull_d          42531 non-null  object \n",
            " 44  collections_12_mths_ex_med  42390 non-null  float64\n",
            " 45  policy_code                 42535 non-null  float64\n",
            " 46  application_type            42535 non-null  object \n",
            " 47  acc_now_delinq              42506 non-null  float64\n",
            " 48  chargeoff_within_12_mths    42390 non-null  float64\n",
            " 49  delinq_amnt                 42506 non-null  float64\n",
            " 50  pub_rec_bankruptcies        41170 non-null  float64\n",
            " 51  tax_liens                   42430 non-null  float64\n",
            "dtypes: float64(30), object(22)\n",
            "memory usage: 16.9+ MB\n"
          ]
        }
      ]
    },
    {
      "cell_type": "code",
      "source": [
        "# calculating the memory usage for the first 1000 rows\n",
        "personal_loan_df1000 = pd.read_csv('https://bit.ly/3H2XVgC', nrows= 1000)\n",
        "print('Memory usage(mb)for 1000 rows:', personal_loan_df1000.memory_usage(deep=True).sum()/(1024^2))"
      ],
      "metadata": {
        "colab": {
          "base_uri": "https://localhost:8080/"
        },
        "id": "z2o8-aEl3YeP",
        "outputId": "05e422ea-63d7-4870-da45-2d7491aebc37"
      },
      "execution_count": null,
      "outputs": [
        {
          "output_type": "stream",
          "name": "stdout",
          "text": [
            "Memory usage(mb)for 1000 rows: 1560.9746588693956\n"
          ]
        }
      ]
    },
    {
      "cell_type": "code",
      "source": [
        "# we increase the number of rows 4000 to find out if the memory usage > 5mb.\n",
        "personal_loan_df= pd.read_csv(\"https://bit.ly/3H2XVgC\", nrows=4000)\n",
        "personal_loan_df.info(memory_usage='deep')"
      ],
      "metadata": {
        "colab": {
          "base_uri": "https://localhost:8080/"
        },
        "id": "aHa678b260HN",
        "outputId": "c647068c-ba81-4329-c4e8-ea019cbbba44"
      },
      "execution_count": null,
      "outputs": [
        {
          "output_type": "stream",
          "name": "stdout",
          "text": [
            "<class 'pandas.core.frame.DataFrame'>\n",
            "RangeIndex: 4000 entries, 0 to 3999\n",
            "Data columns (total 52 columns):\n",
            " #   Column                      Non-Null Count  Dtype  \n",
            "---  ------                      --------------  -----  \n",
            " 0   id                          4000 non-null   int64  \n",
            " 1   member_id                   4000 non-null   float64\n",
            " 2   loan_amnt                   4000 non-null   float64\n",
            " 3   funded_amnt                 4000 non-null   float64\n",
            " 4   funded_amnt_inv             4000 non-null   float64\n",
            " 5   term                        4000 non-null   object \n",
            " 6   int_rate                    4000 non-null   object \n",
            " 7   installment                 4000 non-null   float64\n",
            " 8   grade                       4000 non-null   object \n",
            " 9   sub_grade                   4000 non-null   object \n",
            " 10  emp_title                   3751 non-null   object \n",
            " 11  emp_length                  3873 non-null   object \n",
            " 12  home_ownership              4000 non-null   object \n",
            " 13  annual_inc                  4000 non-null   float64\n",
            " 14  verification_status         4000 non-null   object \n",
            " 15  issue_d                     4000 non-null   object \n",
            " 16  loan_status                 4000 non-null   object \n",
            " 17  pymnt_plan                  4000 non-null   object \n",
            " 18  purpose                     4000 non-null   object \n",
            " 19  title                       4000 non-null   object \n",
            " 20  zip_code                    4000 non-null   object \n",
            " 21  addr_state                  4000 non-null   object \n",
            " 22  dti                         4000 non-null   float64\n",
            " 23  delinq_2yrs                 4000 non-null   float64\n",
            " 24  earliest_cr_line            4000 non-null   object \n",
            " 25  inq_last_6mths              4000 non-null   float64\n",
            " 26  open_acc                    4000 non-null   float64\n",
            " 27  pub_rec                     4000 non-null   float64\n",
            " 28  revol_bal                   4000 non-null   float64\n",
            " 29  revol_util                  3999 non-null   object \n",
            " 30  total_acc                   4000 non-null   float64\n",
            " 31  initial_list_status         4000 non-null   object \n",
            " 32  out_prncp                   4000 non-null   float64\n",
            " 33  out_prncp_inv               4000 non-null   float64\n",
            " 34  total_pymnt                 4000 non-null   float64\n",
            " 35  total_pymnt_inv             4000 non-null   float64\n",
            " 36  total_rec_prncp             4000 non-null   float64\n",
            " 37  total_rec_int               4000 non-null   float64\n",
            " 38  total_rec_late_fee          4000 non-null   float64\n",
            " 39  recoveries                  4000 non-null   float64\n",
            " 40  collection_recovery_fee     4000 non-null   float64\n",
            " 41  last_pymnt_d                3996 non-null   object \n",
            " 42  last_pymnt_amnt             4000 non-null   float64\n",
            " 43  last_credit_pull_d          4000 non-null   object \n",
            " 44  collections_12_mths_ex_med  4000 non-null   float64\n",
            " 45  policy_code                 4000 non-null   float64\n",
            " 46  application_type            4000 non-null   object \n",
            " 47  acc_now_delinq              4000 non-null   float64\n",
            " 48  chargeoff_within_12_mths    4000 non-null   float64\n",
            " 49  delinq_amnt                 4000 non-null   float64\n",
            " 50  pub_rec_bankruptcies        4000 non-null   float64\n",
            " 51  tax_liens                   4000 non-null   float64\n",
            "dtypes: float64(30), int64(1), object(21)\n",
            "memory usage: 6.1 MB\n"
          ]
        }
      ]
    },
    {
      "cell_type": "markdown",
      "source": [
        "**Finding**: \n",
        "memory usage is proportional to the number of rows processed"
      ],
      "metadata": {
        "id": "TyX5yfN08Yok"
      }
    },
    {
      "cell_type": "markdown",
      "metadata": {
        "id": "StemrBe2wkMj"
      },
      "source": [
        "## 2. Exploring the Data in Chunks"
      ]
    },
    {
      "cell_type": "markdown",
      "metadata": {
        "id": "dm4p982Dwor5"
      },
      "source": [
        "Let's familiarize ourselves with the columns to see which ones we can optimize. In the first lesson, we explored column types by reading in the full dataframe. In this project, let's try to understand the column types better while using dataframe chunks.\n",
        "\n",
        "**Tasks**\n",
        "\n",
        "For each chunk:\n",
        "* How many columns have a numeric type? \n",
        "* How many have a string type?\n",
        "* How many unique values are there in each string column? How many of the string columns contain values that are less than 50% unique?\n",
        "* Which float columns have no missing values and could be candidates for conversion to the integer type?\n",
        "* Calculate the total memory usage across all of the chunks."
      ]
    },
    {
      "cell_type": "code",
      "metadata": {
        "id": "rjTUXAnJwzdx",
        "colab": {
          "base_uri": "https://localhost:8080/"
        },
        "outputId": "d18cc686-4d75-4e7e-b9fa-f311aeb27fe1"
      },
      "source": [
        "# finding the columns that have numeric types\n",
        "numeric_type = pd.read_csv(\"https://bit.ly/3H2XVgC\", chunksize=1000)\n",
        "numeric_list  = list()\n",
        "for x in numeric_type:\n",
        "  numeric_list.append(len((x.select_dtypes(include=np.number)).columns))\n",
        "\n",
        "print(numeric_list)"
      ],
      "execution_count": null,
      "outputs": [
        {
          "output_type": "stream",
          "name": "stdout",
          "text": [
            "[31, 31, 31, 31, 31, 31, 31, 31, 31, 31, 31, 31, 31, 31, 31, 31, 31, 31, 31, 31, 31, 31, 31, 31, 31, 31, 31, 31, 31, 31, 31, 31, 31, 31, 31, 31, 31, 31, 31, 30, 31, 31, 30]\n"
          ]
        }
      ]
    },
    {
      "cell_type": "code",
      "source": [
        "# finding columns with string values\n",
        "string_type = pd.read_csv(\"https://bit.ly/3H2XVgC\", chunksize=1000)\n",
        "string_list = list()\n",
        "for x in string_type:\n",
        "  string_list.append(len((x.select_dtypes(include='object')).columns))\n",
        "\n",
        "print(string_list)"
      ],
      "metadata": {
        "colab": {
          "base_uri": "https://localhost:8080/"
        },
        "id": "KOASzqF8CJt1",
        "outputId": "b816b919-2d9d-416c-d2b3-e8fee1ce4264"
      },
      "execution_count": null,
      "outputs": [
        {
          "output_type": "stream",
          "name": "stdout",
          "text": [
            "[21, 21, 21, 21, 21, 21, 21, 21, 21, 21, 21, 21, 21, 21, 21, 21, 21, 21, 21, 21, 21, 21, 21, 21, 21, 21, 21, 21, 21, 21, 21, 21, 21, 21, 21, 21, 21, 21, 21, 22, 21, 21, 22]\n"
          ]
        }
      ]
    },
    {
      "cell_type": "code",
      "source": [
        "# fing unique values in each string column and finding number of string columns with values < 50 % unique\n",
        "\n",
        "# using chunks of 2000 rows to read data\n",
        "chunks_unique = pd.read_csv(\"https://bit.ly/3H2XVgC\", chunksize=3000)\n",
        "\n",
        "numeric_unique_values = []\n",
        "numeric_cols_percent_unique = []\n",
        "# loading each chunk\n",
        "for x in chunks_unique:\n",
        "    x['id'] = pd.to_numeric(x['id'], errors='coerce')\n",
        "    x = x.dropna(axis=0, subset=['id']) \n",
        "    # picking only the string columns\n",
        "    string_cols = x.select_dtypes(include='object')\n",
        "\n",
        "    # finding the number of unique values in each string column\n",
        "    numeric_unique_values.append(string_cols.nunique())\n",
        "    numeric_unique = pd.concat(numeric_unique_values)\n",
        "    numeric_unique = numeric_unique.groupby(numeric_unique.index).sum()\n",
        "  \n",
        "    numeric_cols_percent_unique.append(string_cols.nunique()/string_cols.count() *100)\n",
        "    numeric_cols_percent = pd.concat(numeric_cols_percent_unique)\n",
        "    numeric_cols_percent = numeric_cols_percent.groupby(numeric_cols_percent.index).mean()\n",
        "\n",
        "    num_cols_less_than_50_percent_unique = list((numeric_cols_percent[numeric_cols_percent <50]).index)\n",
        "print(numeric_unique)\n",
        "print(numeric_cols_percent)\n",
        "print(num_cols_less_than_50_percent_unique)"
      ],
      "metadata": {
        "colab": {
          "base_uri": "https://localhost:8080/"
        },
        "id": "ovQ1QVzKKjZy",
        "outputId": "d214d6a6-9b83-424b-b76a-9f1e13e27060"
      },
      "execution_count": null,
      "outputs": [
        {
          "output_type": "stream",
          "name": "stdout",
          "text": [
            "addr_state               653\n",
            "application_type          15\n",
            "earliest_cr_line        5537\n",
            "emp_length               165\n",
            "emp_title              36958\n",
            "grade                    105\n",
            "home_ownership            52\n",
            "initial_list_status       15\n",
            "int_rate                1124\n",
            "issue_d                  113\n",
            "last_credit_pull_d      1078\n",
            "last_pymnt_d             911\n",
            "loan_status               58\n",
            "purpose                  201\n",
            "pymnt_plan                16\n",
            "revol_util             13590\n",
            "sub_grade                522\n",
            "term                      27\n",
            "title                  26923\n",
            "verification_status       43\n",
            "zip_code                8117\n",
            "dtype: int64\n",
            "addr_state              1.880203\n",
            "application_type        0.043550\n",
            "earliest_cr_line       14.686817\n",
            "emp_length              0.488414\n",
            "emp_title              92.775698\n",
            "grade                   0.304848\n",
            "home_ownership          0.156422\n",
            "initial_list_status     0.043550\n",
            "int_rate                3.376513\n",
            "issue_d                 0.343083\n",
            "last_credit_pull_d      3.309096\n",
            "last_pymnt_d            2.488140\n",
            "loan_status             0.149323\n",
            "purpose                 0.579480\n",
            "pymnt_plan              0.045772\n",
            "revol_util             34.412441\n",
            "sub_grade               1.517572\n",
            "term                    0.070217\n",
            "title                  64.571386\n",
            "verification_status     0.105773\n",
            "zip_code               20.765791\n",
            "dtype: float64\n",
            "['addr_state', 'application_type', 'earliest_cr_line', 'emp_length', 'grade', 'home_ownership', 'initial_list_status', 'int_rate', 'issue_d', 'last_credit_pull_d', 'last_pymnt_d', 'loan_status', 'purpose', 'pymnt_plan', 'revol_util', 'sub_grade', 'term', 'verification_status', 'zip_code']\n"
          ]
        }
      ]
    },
    {
      "cell_type": "code",
      "source": [
        "#finding clumns with float data types and having no missing values \n",
        "chunks_float= pd.read_csv(\"https://bit.ly/3H2XVgC\", chunksize=2000)\n",
        "float_cols_no_missing_values_list = []\n",
        "for x in chunks_float:\n",
        "  float_cols = x.select_dtypes(include='float')\n",
        "  missing_values = float_cols.isnull().sum()\n",
        "  float_cols_no_missing_values = [col for col in float_cols if missing_values[col] == 0]\n",
        "  float_cols_no_missing_values_list.append(float_cols_no_missing_values)\n",
        "  float_cols_no_missing_values_series = pd.concat([pd.Series(cols) for cols in float_cols_no_missing_values_list])\n",
        "print(float_cols_no_missing_values_series)"
      ],
      "metadata": {
        "colab": {
          "base_uri": "https://localhost:8080/"
        },
        "id": "xxuqPt7CI74j",
        "outputId": "730a4d43-a611-44f8-a52b-579fef925a45"
      },
      "execution_count": null,
      "outputs": [
        {
          "output_type": "stream",
          "name": "stdout",
          "text": [
            "0                    member_id\n",
            "1                    loan_amnt\n",
            "2                  funded_amnt\n",
            "3              funded_amnt_inv\n",
            "4                  installment\n",
            "                ...           \n",
            "24                 policy_code\n",
            "25              acc_now_delinq\n",
            "26    chargeoff_within_12_mths\n",
            "27                 delinq_amnt\n",
            "28                   tax_liens\n",
            "Length: 598, dtype: object\n"
          ]
        },
        {
          "output_type": "stream",
          "name": "stderr",
          "text": [
            "<ipython-input-18-b1e011777419>:9: DeprecationWarning: The default dtype for empty Series will be 'object' instead of 'float64' in a future version. Specify a dtype explicitly to silence this warning.\n",
            "  float_cols_no_missing_values_series = pd.concat([pd.Series(cols) for cols in float_cols_no_missing_values_list])\n"
          ]
        }
      ]
    },
    {
      "cell_type": "code",
      "source": [
        "# finding total memory usage\n",
        "memory_usage = pd.read_csv(\"https://bit.ly/3H2XVgC\", chunksize=3000)\n",
        "total_memory_usage = 0\n",
        "for x in memory_usage:\n",
        "  chunk_memory_usage = x.memory_usage(deep=True).sum()\n",
        "  total_memory_usage += chunk_memory_usage\n",
        "print(f'Total memory in use is: {total_memory_usage/2**20} MB')"
      ],
      "metadata": {
        "colab": {
          "base_uri": "https://localhost:8080/"
        },
        "id": "sxCIJR6mL2Cy",
        "outputId": "8d9b4e16-47e5-49f3-abcf-0a2b695e9a51"
      },
      "execution_count": null,
      "outputs": [
        {
          "output_type": "stream",
          "name": "stdout",
          "text": [
            "Total memory in use is: 65.24251079559326 MB\n"
          ]
        }
      ]
    },
    {
      "cell_type": "markdown",
      "metadata": {
        "id": "8BtAVP8fw3OH"
      },
      "source": [
        "## 3. Optimizing String Columns"
      ]
    },
    {
      "cell_type": "markdown",
      "metadata": {
        "id": "ZkWArHAhw_bw"
      },
      "source": [
        "We can achieve the greatest memory improvements by converting the string columns to a numeric type. Let's convert all of the columns where the values are less than 50% unique to the category type, and the columns that contain numeric values to the `float` type.\n",
        "\n",
        "While working with dataframe chunks:\n",
        "* Determine which string columns you can convert to a numeric type if you clean them. For example, the `int_rate` column is only a string because of the % sign at the end.\n",
        "* Determine which columns have a few unique values and convert them to the category type. For example, you may want to convert the grade and `sub_grade` columns.\n",
        "Based on your conclusions, perform the necessary type changes across all chunks. * Calculate the total memory footprint, and compare it with the previous one."
      ]
    },
    {
      "cell_type": "code",
      "metadata": {
        "id": "FH0tcQlpxG9s",
        "colab": {
          "base_uri": "https://localhost:8080/"
        },
        "outputId": "cee30851-fdce-45ad-b42d-b16615b04320"
      },
      "source": [
        "# converting columns to categorical data as follows\n",
        "categ_collumns_conversion= {\"sub_grade\": \"category\", \"purpose\": \"category\", \"home_ownership\": \"category\", \n",
        "    \"verification_status\": \"category\"}\n",
        "\n",
        "categ_col_chunks = pd.read_csv(\"https://bit.ly/3H2XVgC\",\n",
        "                               chunksize=3000, \n",
        "                               parse_dates=[\"issue_d\", \"earliest_cr_line\", \"last_pymnt_d\", \"last_credit_pull_d\"],\n",
        "                     dtype = categ_collumns_conversion)\n",
        "\n",
        "total_memory_usage = 0\n",
        "\n",
        "for x in categ_col_chunks:\n",
        "    x['id'] = pd.to_numeric(x['id'], errors='coerce')\n",
        "    x = x.dropna(axis=0, subset=['id']) \n",
        "    \n",
        "    string_cols = x.select_dtypes(include='object')\n",
        "    \n",
        "    x[\"term\"] = pd.to_numeric(x[\"term\"].str.replace(\" \", \"\").str.replace(\"months\", \"\")) \n",
        "    x[\"int_rate\"] = pd.to_numeric(x[\"int_rate\"].str.replace(\"%\", \"\"))\n",
        "    x[\"revol_util\"]= pd.to_numeric(x[\"revol_util\"].str.replace(\"%\", \"\"))\n",
        "\n",
        "    \n",
        "    chunk_memory_usage = x.memory_usage(deep=True).sum()\n",
        "\n",
        "    \n",
        "    total_memory_usage += chunk_memory_usage\n",
        "\n",
        "print(f'Total memory in use is: {total_memory_usage/2**20} MB')\n",
        "\n"
      ],
      "execution_count": null,
      "outputs": [
        {
          "output_type": "stream",
          "name": "stdout",
          "text": [
            "Total memory in use is: 38.948533058166504 MB\n"
          ]
        }
      ]
    },
    {
      "cell_type": "markdown",
      "source": [
        "**finding:**\n",
        "its clear that the memory usage here of 39mb is a bit lower compared with the previous usage which was 65mb with the same chunk size of 3000.\n",
        "\n"
      ],
      "metadata": {
        "id": "jaBRfj0TTX9h"
      }
    },
    {
      "cell_type": "markdown",
      "metadata": {
        "id": "22oYzgXnxIcV"
      },
      "source": [
        "## 4. Optimizing Numeric Columns"
      ]
    },
    {
      "cell_type": "markdown",
      "metadata": {
        "id": "bv5C20YrxPID"
      },
      "source": [
        "It looks like we were able to realize some powerful memory savings by converting to the category type and converting string columns to numeric ones.\n",
        "\n",
        "Now let's optimize the numeric columns using the `pandas.to_numeric()` function.\n",
        "\n",
        "**Tasks**\n",
        "\n",
        "While working with dataframe chunks:\n",
        "* Identify float columns that contain missing values, and that we can convert to a more space efficient subtype.\n",
        "* Identify float columns that don't contain any missing values, and that we can convert to the integer type because they represent whole numbers.\n",
        "* Based on your conclusions, perform the necessary type changes across all chunks.\n",
        "* Calculate the total memory footprint and compare it with the previous one.\n",
        "\n",
        "\n"
      ]
    },
    {
      "cell_type": "code",
      "metadata": {
        "id": "2S9KR57LxQ9d",
        "colab": {
          "base_uri": "https://localhost:8080/"
        },
        "outputId": "de7783bb-5d9c-47f1-c9dd-d611ba2cc4eb"
      },
      "source": [
        "# Your code goes here\n",
        "chunks_optimal = pd.read_csv(\"https://bit.ly/3H2XVgC\",\n",
        "                     chunksize=2000, \n",
        "                     parse_dates=[\"issue_d\", \"earliest_cr_line\", \"last_pymnt_d\", \"last_credit_pull_d\"],\n",
        "                     dtype = categ_collumns_conversion)\n",
        "\n",
        "total_memory_usage = 0\n",
        "\n",
        "for x in chunks_optimal:\n",
        "    x['id'] = pd.to_numeric(x['id'], errors='coerce')\n",
        "    x = x.dropna(axis=0, subset=['id']) \n",
        "    \n",
        "    x[\"term\"] = pd.to_numeric(x[\"term\"].str.replace(\" \", \"\").str.replace(\"months\", \"\")) \n",
        "    x[\"int_rate\"] = pd.to_numeric(x[\"int_rate\"].str.replace(\"%\", \"\"))\n",
        "    x[\"revol_util\"]= pd.to_numeric(x[\"revol_util\"].str.replace(\"%\", \"\"))\n",
        "\n",
        "    missing_values = float_cols.isnull().sum()\n",
        "    float_collumns = x.select_dtypes(include='float')\n",
        "    float_columns_missing_values = [col for col in float_cols if missing_values[col] > 0]\n",
        "    float_columns_no_missing_values = [col for col in float_cols if missing_values[col] == 0]\n",
        "    for col in float_columns_missing_values:\n",
        "        x[col] = pd.to_numeric(x[col], downcast='float')\n",
        "\n",
        "\n",
        "    for col in float_cols_no_missing_values:\n",
        "        x[col] = pd.to_numeric(x[col], downcast='integer')\n",
        "\n",
        "    memory_usage = x.memory_usage(deep=True).sum()\n",
        "    total_memory_usage += memory_usage\n",
        "\n",
        "print(f'Memory in use is: {total_memory_usage/2**20} MB')\n"
      ],
      "execution_count": null,
      "outputs": [
        {
          "output_type": "stream",
          "name": "stdout",
          "text": [
            "Memory in use is: 34.11496448516846 MB\n"
          ]
        }
      ]
    },
    {
      "cell_type": "markdown",
      "source": [
        "**Finding:**\n",
        "its found out that memory in use reduces further, indicating that more memory is saved when we optimize the numeric columns using pandas.to_numeric() function"
      ],
      "metadata": {
        "id": "-jB-gw_ek6Uj"
      }
    },
    {
      "cell_type": "markdown",
      "metadata": {
        "id": "DMJVaj_kxj42"
      },
      "source": [
        "## Next Steps"
      ]
    },
    {
      "cell_type": "markdown",
      "metadata": {
        "id": "H0RL3BzexlkW"
      },
      "source": [
        "We've practiced optimizing a dataframe's memory footprint and working with dataframe chunks. Here's an idea for some next steps:\n",
        "\n",
        "Create a function that automates as much of the work you just did as possible, so that you could use it on other Lending Club data sets. This function should:\n",
        "\n",
        "* Determine the optimal chunk size based on the memory constraints you provide.\n",
        "\n",
        "* Determine which string columns can be converted to numeric ones by removing the `%` character.\n",
        "\n",
        "* Determine which numeric columns can be converted to more space efficient representations.\n"
      ]
    },
    {
      "cell_type": "code",
      "metadata": {
        "id": "1hvuUNzPx1zy"
      },
      "source": [
        "# Your code goes here\n",
        "#create a function to determine the optimal chunk size\n",
        "def chunk_size(file_path, memory_limit):\n",
        "\n",
        "#check two rows of the data set\n",
        "  optimal_df = pd.read_csv(file_path, nrows=2)\n",
        "\n",
        "#finding memory usage of two rows\n",
        "  row_memory_usage = optimal_df.memory_usage().sum()\n",
        "\n",
        "#finding maximum number of rows that can be processed per time\n",
        "\n",
        "  maximum_rows = memory_limit / row_memory_usage\n",
        "  chunk_size = int(maximum_rows)\n",
        "    \n",
        "  return chunk_size\n",
        "#print('chunk_size')"
      ],
      "execution_count": null,
      "outputs": []
    },
    {
      "cell_type": "code",
      "source": [
        "#create a function to determine the the string columns convertible to numeric by removing %\n",
        "\n",
        "def string_columns_convertible(df):\n",
        "    \n",
        "    # Select all the string columns\n",
        "    string_cols = optimal_df.select_dtypes(include='object')\n",
        "    \n",
        "    string_cols_to_convert = []\n",
        "    \n",
        "    # #looping through the string columns\n",
        "    for col in string_cols:\n",
        "        try:\n",
        "            pd.to_numeric(string_cols[col].str.replace('%', ''), errors='coerce')\n",
        "            string_cols_to_convert.append(col)\n",
        "        except:\n",
        "            pass\n",
        "    \n",
        "    return string_cols_to_convert"
      ],
      "metadata": {
        "id": "q7LAVYtK3aSg"
      },
      "execution_count": null,
      "outputs": []
    },
    {
      "cell_type": "code",
      "source": [
        "# Determine which numeric columns can be converted to more space efficient representations.\n",
        "def numeric_columns_convertible(optimal_df):\n",
        "  numeric_columns = optimal_df.select_dtypes(include=['int', 'float'])\n",
        "  numeric_columns_missing_values = []\n",
        "  numeric_columns_no_missing_values = []\n",
        "\n",
        "  for columns in numeric_columns:\n",
        "        missing_values = numeric_columns[col].isnull().sum()\n",
        "        if missing_values > 0:\n",
        "            numeric_columns_missing_values.append(col)\n",
        "        else:\n",
        "            numeric_columns_no_missing_values.append(col)\n",
        "    \n",
        "  return numeric_columns_missing_values, numeric_columns_no_missing_values\n"
      ],
      "metadata": {
        "id": "UynCTWhs5EEf"
      },
      "execution_count": null,
      "outputs": []
    }
  ]
}